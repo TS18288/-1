{
 "cells": [
  {
   "cell_type": "markdown",
   "id": "977d08e5-02ff-4c47-b561-cf53e52cc424",
   "metadata": {},
   "source": [
    "# 结巴分词实践"
   ]
  },
  {
   "cell_type": "markdown",
   "id": "e4cf6891-b9e3-490f-89c7-2416c536c3af",
   "metadata": {},
   "source": [
    "## 结巴分词的三种模式"
   ]
  },
  {
   "cell_type": "markdown",
   "id": "5903c165-e2c0-4f6a-ac61-0008bc7de090",
   "metadata": {},
   "source": [
    "### 全模式"
   ]
  },
  {
   "cell_type": "code",
   "execution_count": 4,
   "id": "98e80e54-e1f9-49e4-bb6f-f0b047332645",
   "metadata": {},
   "outputs": [
    {
     "ename": "ModuleNotFoundError",
     "evalue": "No module named 'jieba'",
     "output_type": "error",
     "traceback": [
      "\u001b[1;31m---------------------------------------------------------------------------\u001b[0m",
      "\u001b[1;31mModuleNotFoundError\u001b[0m                       Traceback (most recent call last)",
      "Cell \u001b[1;32mIn[4], line 1\u001b[0m\n\u001b[1;32m----> 1\u001b[0m \u001b[38;5;28;01mimport\u001b[39;00m \u001b[38;5;21;01mjieba\u001b[39;00m\n\u001b[0;32m      2\u001b[0m \u001b[38;5;28;01mimport\u001b[39;00m \u001b[38;5;21;01mjieba\u001b[39;00m\u001b[38;5;21;01m.\u001b[39;00m\u001b[38;5;21;01manalyse\u001b[39;00m\n\u001b[0;32m      3\u001b[0m seg_1ist\u001b[38;5;241m=\u001b[39mjieba\u001b[38;5;241m.\u001b[39mcut(\u001b[38;5;124m\"\u001b[39m\u001b[38;5;124m我来到北京清华大学\u001b[39m\u001b[38;5;124m\"\u001b[39m,cut_a11\u001b[38;5;241m=\u001b[39m\u001b[38;5;28;01mTrue\u001b[39;00m)\n",
      "\u001b[1;31mModuleNotFoundError\u001b[0m: No module named 'jieba'"
     ]
    }
   ],
   "source": [
    "import jieba\n",
    "import jieba.analyse\n",
    "seg_1ist=jieba.cut(\"我来到北京清华大学\",cut_a11=True)\n",
    "print(\"Fu11 Mode:\"+\"/\".join(seg_1ist))#全模式"
   ]
  },
  {
   "cell_type": "code",
   "execution_count": null,
   "id": "5b1a2469-ed0a-4052-b9b6-ed1cd60a48e9",
   "metadata": {},
   "outputs": [],
   "source": []
  },
  {
   "cell_type": "code",
   "execution_count": null,
   "id": "b865dcee-17e5-4bb1-9874-d8a150dccfac",
   "metadata": {},
   "outputs": [],
   "source": []
  }
 ],
 "metadata": {
  "kernelspec": {
   "display_name": "Python 3 (ipykernel)",
   "language": "python",
   "name": "python3"
  },
  "language_info": {
   "codemirror_mode": {
    "name": "ipython",
    "version": 3
   },
   "file_extension": ".py",
   "mimetype": "text/x-python",
   "name": "python",
   "nbconvert_exporter": "python",
   "pygments_lexer": "ipython3",
   "version": "3.10.7"
  }
 },
 "nbformat": 4,
 "nbformat_minor": 5
}
